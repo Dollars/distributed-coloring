{
 "metadata": {
  "name": "copy of gridPlot"
 },
 "nbformat": 3,
 "nbformat_minor": 0,
 "worksheets": [
  {
   "cells": [
    {
     "cell_type": "code",
     "collapsed": false,
     "input": [
      "import graph_tool.all as gt\n",
      "import numpy as np\n",
      "import numpy.random as npr\n",
      "from graph_tool import topology as gtt\n",
      "import matplotlib.cm as cm\n",
      "import matplotlib.colors\n",
      "import networkx as nx\n",
      "from graph import Graph\n",
      "from node import Node\n",
      "from optimization.genetic_algorithm import GeneticAlgorithm\n",
      "from optimization.genetic_algorithm import GeneticAlgorithmVariation\n",
      "\n",
      "def cmap_discretize(cmap, N):\n",
      "    \"\"\"Return a discrete colormap from the continuous colormap cmap.\n",
      "    \n",
      "        cmap: colormap instance, eg. cm.jet. \n",
      "        N: number of colors.\n",
      "    \n",
      "    Example\n",
      "        x = resize(arange(100), (5,100))\n",
      "        djet = cmap_discretize(cm.jet, 5)\n",
      "        imshow(x, cmap=djet)\n",
      "    \"\"\"\n",
      "\n",
      "    if type(cmap) == str:\n",
      "        cmap = cm.get_cmap(cmap)\n",
      "    colors_i = np.concatenate((np.linspace(0, 1., N), (0.,0.,0.,0.)))\n",
      "    colors_rgba = cmap(colors_i)\n",
      "    indices = np.linspace(0, 1., N+1)\n",
      "    cdict = {}\n",
      "    for ki,key in enumerate(('red','green','blue')):\n",
      "        cdict[key] = [ (indices[i], colors_rgba[i-1,ki], colors_rgba[i,ki]) for i in range(N+1) ]\n",
      "    # Return colormap object.\n",
      "    return matplotlib.colors.LinearSegmentedColormap(cmap.name + \"_%d\"%N, cdict, 1024)"
     ],
     "language": "python",
     "metadata": {},
     "outputs": []
    },
    {
     "cell_type": "code",
     "collapsed": false,
     "input": [
      "geograph = gt.lattice([2,2])\n",
      "nv = geograph.add_vertex(1)\n",
      "lv = geograph.vertices()\n",
      "for n in lv:\n",
      "    if n != nv:\n",
      "        geograph.add_edge(n,nv)\n",
      "posgeo = gt.sfdp_layout(geograph, cooling_step=0.95, epsilon=1e-2)\n",
      "\n",
      "geograph.vertex_properties[\"pos\"] = posgeo\n",
      "filterv = geograph.new_vertex_property(\"bool\")\n",
      "for v in geograph.vertices():\n",
      "    filterv[v] = v.out_degree()   \n",
      "geograph.set_vertex_filter(filterv, inverted=False)\n",
      "geograph.purge_vertices(in_place=True)\n",
      "posgeo = geograph.vertex_properties[\"pos\"]\n",
      "gt.graph_draw(geograph, pos=geograph.vertex_properties[\"pos\"], output_size=(300,300), output=\"geometric.pdf\")\n",
      "gt.graphviz_draw(geograph, size=(300,300), vsize=1, pos=geograph.vertex_properties[\"pos\"], pin=True, output=\"geometric.dot\", fork=True)"
     ],
     "language": "python",
     "metadata": {},
     "outputs": []
    },
    {
     "cell_type": "code",
     "collapsed": false,
     "input": [
      "tmpPath = \"tmp.dot\"\n",
      "pdg = nx.pydot.graph_from_dot_file(\"geometric.dot\")\n",
      "ntg = nx.from_pydot(pdg)\n",
      "tmpfile = open(tmpPath, 'w')\n",
      "tmpfile.write(\"graph \"+pdg.get_name()+\" {\\n\")\n",
      "for i in sorted(ntg.nodes(), key=lambda n: int(n)):\n",
      "    neighbors = ntg.neighbors(str(i))\n",
      "    for n in neighbors:\n",
      "        tmpfile.write(\"{0} -- {1};\\n\".format(i,n))\n",
      "tmpfile.write(\"}\")\n",
      "tmpfile.close()"
     ],
     "language": "python",
     "metadata": {},
     "outputs": []
    },
    {
     "cell_type": "code",
     "collapsed": false,
     "input": [
      "g = Graph(path=tmpPath)\n",
      "g.startRunning(100, 0.6)\n",
      "g.runColoring()\n",
      "g.showColoringStats()\n",
      "\n",
      "#species = []\n",
      "#for i in range(len(g.nodes)):\n",
      "#\tspecies.append((1,5))\n",
      "#ga = GeneticAlgorithm(species, [g.evalQuality], nbrOfGenerations=1000, populationSize=50, tournamentSize=2, \n",
      "#                                    selectionRate=0.5, crossoverProb=0.15, mutationProba=0.065, elitisme=0.1)\n",
      "#ga.genetic_process()\n",
      "#g.evalQuality(ga.population[0])\n",
      "#fg = open(\"gene.dot\", \"w\")\n",
      "#fg.write(str(g))\n",
      "#fg.close()"
     ],
     "language": "python",
     "metadata": {},
     "outputs": []
    },
    {
     "cell_type": "code",
     "collapsed": false,
     "input": [
      "gc = gt.lattice([3,3])\n",
      "vm, em = gtt.subgraph_isomorphism(gc, geograph, max_n=1)"
     ],
     "language": "python",
     "metadata": {},
     "outputs": []
    },
    {
     "cell_type": "code",
     "collapsed": false,
     "input": [
      "for i in range(len(vm)):\n",
      "    geograph.set_vertex_filter(None)\n",
      "    geograph.set_edge_filter(None)\n",
      "    vmask, emask = gt.mark_subgraph(geograph, gc, vm[i], em[i])\n",
      "    geograph.set_vertex_filter(vmask)\n",
      "    geograph.set_edge_filter(emask)\n",
      "    assert(gt.isomorphism(geograph, gc))\n",
      "geograph.set_vertex_filter(None)\n",
      "geograph.set_edge_filter(None)\n",
      "ewidth = geograph.copy_property(emask, value_type=\"double\")\n",
      "ewidth.a += 0.35\n",
      "gt.graph_draw(geograph, pos=geograph.vertex_properties[\"pos\"], vertex_fill_color=vmask, edge_color=emask, output_size=(300, 300), output=\"subgraph-iso-embed.pdf\")"
     ],
     "language": "python",
     "metadata": {},
     "outputs": []
    },
    {
     "cell_type": "code",
     "collapsed": false,
     "input": [
      "subgraph = np.extract(vmask.a, np.arange(len(vmask.a)))\n",
      "print(subgraph)"
     ],
     "language": "python",
     "metadata": {},
     "outputs": []
    },
    {
     "cell_type": "code",
     "collapsed": false,
     "input": [
      "gnodes = sorted(g.nodes, key=lambda n: n.id)\n",
      "drawg = geograph\n",
      "mcol = drawg.new_vertex_property(\"vector<double>\")\n",
      "mvsize = drawg.new_vertex_property(\"double\")\n",
      "lab = {int(v): int(k) for k,v in g.labels.items()}\n",
      "cMap = cmap_discretize(\"jet\",g.bestColoringN)\n",
      "for v in drawg.vertices():\n",
      "    i = drawg.vertex_index[v]\n",
      "    colorByindex = gnodes[lab[i]].color\n",
      "    mcol[v] = cMap((colorByindex)/(g.bestColoringN+1))\n",
      "    mvsize[v] = 1/4\n",
      "\n",
      "drawg.vertex_properties[\"fillcolor\"] = mcol\n",
      "drawg.vertex_properties[\"size\"] = mvsize\n",
      "vprop = {\"fill_color\":mcol}\n",
      "gt.graph_draw(drawg, output_size=(300,300), pos=geograph.vertex_properties[\"pos\"], vprops=vprop, output=\"test.pdf\")"
     ],
     "language": "python",
     "metadata": {},
     "outputs": []
    },
    {
     "cell_type": "code",
     "collapsed": false,
     "input": [
      "import pylab;\n",
      "import matplotlib.pyplot as plt;\n",
      "datalist = pylab.loadtxt(\"graphstats.txt\");\n",
      "for i in subgraph:\n",
      "    plt.plot([n[i] for  n in datalist])\n",
      "plt.show()"
     ],
     "language": "python",
     "metadata": {},
     "outputs": []
    },
    {
     "cell_type": "code",
     "collapsed": false,
     "input": [
      "datalist = pylab.loadtxt(\"graphstats.txt\");\n",
      "for i in range(len(g.nodes)):\n",
      "    plt.plot([n[i] for n in datalist])\n",
      "plt.show()"
     ],
     "language": "python",
     "metadata": {},
     "outputs": []
    },
    {
     "cell_type": "code",
     "collapsed": false,
     "input": [
      "mean=[]\n",
      "dev=[]\n",
      "for n in datalist:\n",
      "    mean.append(np.average(n))\n",
      "    dev.append(np.std(n))\n",
      "plt.plot(mean)\n",
      "plt.show()"
     ],
     "language": "python",
     "metadata": {},
     "outputs": []
    },
    {
     "cell_type": "code",
     "collapsed": false,
     "input": [],
     "language": "python",
     "metadata": {},
     "outputs": []
    }
   ],
   "metadata": {}
  }
 ]
}